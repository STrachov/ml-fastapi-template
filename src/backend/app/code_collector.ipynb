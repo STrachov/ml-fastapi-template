{
 "cells": [
  {
   "cell_type": "code",
   "metadata": {
    "collapsed": true,
    "ExecuteTime": {
     "end_time": "2024-11-07T08:29:10.349350Z",
     "start_time": "2024-11-07T08:29:10.299790Z"
    }
   },
   "source": [
    "import glob\n",
    "import os\n",
    "from encodings.utf_7 import encode"
   ],
   "outputs": [],
   "execution_count": 1
  },
  {
   "cell_type": "code",
   "source": [
    "def collect_content_to_single_file(source_directory, output_file):\n",
    "    with open(output_file, 'w', encoding='utf-8') as outfile:\n",
    "        for file_path in glob.glob(os.path.join(source_directory, '**', '*.*'), recursive=True):\n",
    "            if os.path.isfile(file_path):  # Ensure it's a file\n",
    "                with open(file_path, 'r', encoding='latin-1') as infile:\n",
    "                    header_str = f'\\n# {str(file_path)}\\n'\n",
    "\n",
    "                    outfile.write(header_str)\n",
    "                    outfile.write(infile.read())\n",
    "                    outfile.write('\\n')  # Add a newline between files for clarity\n",
    "dir_names  = ['api', 'core']\n",
    "for dir_name in dir_names:\n",
    "    print (dir_name)\n",
    "    source_directory = f'./{dir_name}'\n",
    "    output_file = f'collected_content_{dir_name}.txt'\n",
    "    collect_content_to_single_file(source_directory, output_file)"
   ],
   "metadata": {
    "collapsed": false,
    "ExecuteTime": {
     "end_time": "2024-11-07T08:46:26.195811Z",
     "start_time": "2024-11-07T08:46:26.169260Z"
    }
   },
   "outputs": [
    {
     "name": "stdout",
     "output_type": "stream",
     "text": [
      "api\n",
      "core\n"
     ]
    }
   ],
   "execution_count": 4
  },
  {
   "cell_type": "code",
   "execution_count": null,
   "outputs": [],
   "source": [],
   "metadata": {
    "collapsed": false
   }
  }
 ],
 "metadata": {
  "kernelspec": {
   "display_name": "Python 3",
   "language": "python",
   "name": "python3"
  },
  "language_info": {
   "codemirror_mode": {
    "name": "ipython",
    "version": 2
   },
   "file_extension": ".py",
   "mimetype": "text/x-python",
   "name": "python",
   "nbconvert_exporter": "python",
   "pygments_lexer": "ipython2",
   "version": "2.7.6"
  }
 },
 "nbformat": 4,
 "nbformat_minor": 0
}
